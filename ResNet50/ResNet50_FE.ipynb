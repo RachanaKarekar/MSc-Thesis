{
  "nbformat": 4,
  "nbformat_minor": 0,
  "metadata": {
    "environment": {
      "name": "tf2-gpu.2-1.m49",
      "type": "gcloud",
      "uri": "gcr.io/deeplearning-platform-release/tf2-gpu.2-1:m49"
    },
    "kernelspec": {
      "display_name": "Python 3",
      "language": "python",
      "name": "python3"
    },
    "language_info": {
      "codemirror_mode": {
        "name": "ipython",
        "version": 3
      },
      "file_extension": ".py",
      "mimetype": "text/x-python",
      "name": "python",
      "nbconvert_exporter": "python",
      "pygments_lexer": "ipython3",
      "version": "3.7.6"
    },
    "colab": {
      "name": "ResNet50_FE.ipynb",
      "provenance": []
    }
  },
  "cells": [
    {
      "cell_type": "code",
      "metadata": {
        "id": "jZ6-BvLENvK7",
        "colab_type": "code",
        "colab": {
          "base_uri": "https://localhost:8080/",
          "height": 35
        },
        "outputId": "9dc7e067-9c4e-41e5-87b3-ae7f25e76f1f"
      },
      "source": [
        "# %tensorflow_version 2.x\n",
        "import tensorflow as tf\n",
        "print(tf.__version__)\n",
        "\n",
        "from tensorflow.keras import layers\n",
        "import matplotlib.pyplot as plt\n",
        "import matplotlib.pylab as plb\n",
        "import numpy as np\n",
        "import pandas as pd\n",
        "from keras.layers import Input, Dense, Activation, Flatten, Conv2D, Lambda, MaxPooling2D, Dropout\n",
        "from keras import models\n",
        "from keras import layers\n",
        "from keras.callbacks import ModelCheckpoint\n",
        "from keras.optimizers import Adam\n",
        "from keras.applications import VGG16\n",
        "from keras_preprocessing.image import ImageDataGenerator\n",
        "from scipy import pi\n",
        "\n",
        "\n"
      ],
      "execution_count": null,
      "outputs": [
        {
          "output_type": "stream",
          "text": [
            "2.3.0\n"
          ],
          "name": "stdout"
        }
      ]
    },
    {
      "cell_type": "code",
      "metadata": {
        "id": "atzV-PqMNvLv",
        "colab_type": "code",
        "colab": {},
        "outputId": "2cc42d4f-5e9d-4652-bde2-8bd05e3ec23e"
      },
      "source": [
        "trainDF = pd.read_csv(\"/home/jupyter/Thesis/train.txt\", sep=\" \", header=None)\n",
        "trainDF.columns = ['Images', 'SteeringAngle'] \n",
        "trainDF['SteeringAngle'] = trainDF['SteeringAngle'] * (pi / 180)\n",
        "\n",
        "testDF = pd.read_csv('/home/jupyter/Thesis/test.txt', sep=\" \", header=None)\n",
        "testDF.columns = ['Images', 'SteeringAngle'] \n",
        "testDF['SteeringAngle'] = testDF['SteeringAngle'] * (pi / 180)\n",
        "\n",
        "datagen = ImageDataGenerator(\n",
        "            rescale=1./255,            \n",
        "            validation_split=0.25)\n",
        "\n",
        "trainData = trainDF.shape[0] * 0.75\n",
        "valData = trainDF.shape[0] * 0.25\n",
        "# print(trainData, valData)\n",
        "\n",
        "test_datagen = ImageDataGenerator(rescale=1./255)\n",
        "\n",
        "BatchSize = 98\n",
        "\n",
        "train_generator=datagen.flow_from_dataframe(\n",
        "dataframe=trainDF,\n",
        "directory=\"/home/jupyter/Thesis/train/\",\n",
        "x_col=\"Images\",\n",
        "y_col=\"SteeringAngle\",\n",
        "subset=\"training\",\n",
        "batch_size=BatchSize,\n",
        "seed=42,\n",
        "shuffle=False,\n",
        "class_mode=\"raw\",\n",
        "target_size=(100,200))\n",
        "\n",
        "validation_generator = datagen.flow_from_dataframe(\n",
        "dataframe=trainDF,\n",
        "directory=\"/home/jupyter/Thesis/train/\",\n",
        "x_col=\"Images\",\n",
        "y_col=\"SteeringAngle\",\n",
        "subset=\"validation\",\n",
        "batch_size=BatchSize,\n",
        "seed=42,\n",
        "shuffle=False,\n",
        "class_mode=\"raw\",\n",
        "target_size=(100,200))\n"
      ],
      "execution_count": null,
      "outputs": [
        {
          "output_type": "stream",
          "text": [
            "Found 27342 validated image filenames.\n",
            "Found 9114 validated image filenames.\n"
          ],
          "name": "stdout"
        }
      ]
    },
    {
      "cell_type": "code",
      "metadata": {
        "id": "sHZPowiGNvMl",
        "colab_type": "code",
        "colab": {}
      },
      "source": [
        "from keras.applications import ResNet50V2\n",
        "\n",
        "def ResNet50_FE(width, height, depth):\n",
        "\n",
        "    conv_base = ResNet50V2(weights='imagenet', include_top=False, input_shape=(height, width, depth))\n",
        "\n",
        "    model = models.Sequential()\n",
        "    model.add(conv_base)\n",
        "    conv_base.trainable = False\n",
        "    model.add(layers.Flatten())\n",
        "\n",
        "    model.add(Dense(1164, activation='relu'))\n",
        "    model.add(Dropout(0.3))\n",
        "    model.add(Dense(100, activation='relu'))\n",
        "    model.add(Dropout(0.2))\n",
        "    model.add(Dense(50, activation='relu'))\n",
        "    model.add(Dropout(0.2))\n",
        "    model.add(Dense(10, activation='relu'))    \n",
        "    model.add(Dense(1, activation='linear'))\n",
        "\n",
        "    return model\n"
      ],
      "execution_count": null,
      "outputs": []
    },
    {
      "cell_type": "code",
      "metadata": {
        "id": "TBUW8hGhNvNE",
        "colab_type": "code",
        "colab": {},
        "outputId": "990c3c41-9fb3-4653-baaa-5e8843e781b3"
      },
      "source": [
        "from keras.callbacks import ModelCheckpoint\n",
        "\n",
        "NUM_EPOCHS = 10\n",
        "\n",
        "model = ResNet50_FE(width=200, height=100, depth=3)\n",
        "print (model.summary())\n",
        "\n",
        "model.compile(optimizer=tf.keras.optimizers.Adadelta(lr=1e-2), loss=\"mse\")\n",
        "\n",
        "filepath = \"/home/jupyter/Thesis/ResNet50/FE/ResNet50_FE_weights.{epoch:02d}-{val_loss:.2f}.h5\"\n",
        "\n",
        "checkpoint = ModelCheckpoint(filepath, verbose=1)\n",
        "\n",
        "history = model.fit(\n",
        "                train_generator,\n",
        "                steps_per_epoch=round(trainData/BatchSize),\n",
        "                epochs=NUM_EPOCHS,\n",
        "                validation_data=validation_generator,\n",
        "                validation_steps=round(valData/BatchSize),\n",
        "                callbacks=[checkpoint])\n",
        "\n",
        "plt.style.use(\"ggplot\")\n",
        "plt.figure()\n",
        "plt.plot(np.arange(0, NUM_EPOCHS), history.history[\"loss\"], label=\"train_loss\")\n",
        "plt.plot(np.arange(0, NUM_EPOCHS), history.history[\"val_loss\"], label=\"val_loss\")\n",
        "plt.title(\"Training Loss\")\n",
        "plt.xlabel(\"Epoch #\")\n",
        "plt.ylabel(\"Loss\")\n",
        "# https://stackoverflow.com/questions/4700614/how-to-put-the-legend-out-of-the-plot\n",
        "ax = plt.subplot(111)\n",
        "box = ax.get_position()\n",
        "ax.set_position([box.x0, box.y0, box.width * 0.8, box.height])\n",
        "\n",
        "# Put a legend to the right of the current axis\n",
        "ax.legend(loc='center left', bbox_to_anchor=(1, 0.5))\n"
      ],
      "execution_count": null,
      "outputs": [
        {
          "output_type": "stream",
          "text": [
            "Model: \"sequential_2\"\n",
            "_________________________________________________________________\n",
            "Layer (type)                 Output Shape              Param #   \n",
            "=================================================================\n",
            "resnet50v2 (Model)           (None, 4, 7, 2048)        23564800  \n",
            "_________________________________________________________________\n",
            "flatten_2 (Flatten)          (None, 57344)             0         \n",
            "_________________________________________________________________\n",
            "dense_6 (Dense)              (None, 1164)              66749580  \n",
            "_________________________________________________________________\n",
            "dropout_4 (Dropout)          (None, 1164)              0         \n",
            "_________________________________________________________________\n",
            "dense_7 (Dense)              (None, 100)               116500    \n",
            "_________________________________________________________________\n",
            "dropout_5 (Dropout)          (None, 100)               0         \n",
            "_________________________________________________________________\n",
            "dense_8 (Dense)              (None, 50)                5050      \n",
            "_________________________________________________________________\n",
            "dropout_6 (Dropout)          (None, 50)                0         \n",
            "_________________________________________________________________\n",
            "dense_9 (Dense)              (None, 10)                510       \n",
            "_________________________________________________________________\n",
            "dense_10 (Dense)             (None, 1)                 11        \n",
            "=================================================================\n",
            "Total params: 90,436,451\n",
            "Trainable params: 66,871,651\n",
            "Non-trainable params: 23,564,800\n",
            "_________________________________________________________________\n",
            "None\n",
            "Epoch 1/10\n",
            "279/279 [==============================] - 229s 822ms/step - loss: 0.3716 - val_loss: 0.1352\n",
            "\n",
            "Epoch 00001: saving model to /home/jupyter/Thesis/ResNet50/FE/ResNet50_FE_weights.01-0.14.h5\n",
            "Epoch 2/10\n",
            "  1/279 [..............................] - ETA: 33s - loss: 0.0430"
          ],
          "name": "stdout"
        },
        {
          "output_type": "stream",
          "text": [
            "/opt/conda/lib/python3.7/site-packages/keras/engine/saving.py:165: UserWarning: TensorFlow optimizers do not make it possible to access optimizer attributes or optimizer state after instantiation. As a result, we cannot save the optimizer as part of the model save file.You will have to compile your model again after loading it. Prefer using a Keras optimizer instead (see keras.io/optimizers).\n",
            "  'TensorFlow optimizers do not '\n"
          ],
          "name": "stderr"
        },
        {
          "output_type": "stream",
          "text": [
            "279/279 [==============================] - 115s 411ms/step - loss: 0.2290 - val_loss: 0.1341\n",
            "\n",
            "Epoch 00002: saving model to /home/jupyter/Thesis/ResNet50/FE/ResNet50_FE_weights.02-0.13.h5\n",
            "Epoch 3/10\n",
            "279/279 [==============================] - 115s 413ms/step - loss: 0.2065 - val_loss: 0.1299\n",
            "\n",
            "Epoch 00003: saving model to /home/jupyter/Thesis/ResNet50/FE/ResNet50_FE_weights.03-0.13.h5\n",
            "Epoch 4/10\n",
            "279/279 [==============================] - 116s 416ms/step - loss: 0.1876 - val_loss: 0.1113\n",
            "\n",
            "Epoch 00004: saving model to /home/jupyter/Thesis/ResNet50/FE/ResNet50_FE_weights.04-0.11.h5\n",
            "Epoch 5/10\n",
            "279/279 [==============================] - 116s 414ms/step - loss: 0.1724 - val_loss: 0.1133\n",
            "\n",
            "Epoch 00005: saving model to /home/jupyter/Thesis/ResNet50/FE/ResNet50_FE_weights.05-0.11.h5\n",
            "Epoch 6/10\n",
            "279/279 [==============================] - 115s 414ms/step - loss: 0.1585 - val_loss: 0.0866\n",
            "\n",
            "Epoch 00006: saving model to /home/jupyter/Thesis/ResNet50/FE/ResNet50_FE_weights.06-0.09.h5\n",
            "Epoch 7/10\n",
            "279/279 [==============================] - 116s 416ms/step - loss: 0.1473 - val_loss: 0.0983\n",
            "\n",
            "Epoch 00007: saving model to /home/jupyter/Thesis/ResNet50/FE/ResNet50_FE_weights.07-0.10.h5\n",
            "Epoch 8/10\n",
            "279/279 [==============================] - 116s 416ms/step - loss: 0.1358 - val_loss: 0.0798\n",
            "\n",
            "Epoch 00008: saving model to /home/jupyter/Thesis/ResNet50/FE/ResNet50_FE_weights.08-0.08.h5\n",
            "Epoch 9/10\n",
            "279/279 [==============================] - 116s 416ms/step - loss: 0.1274 - val_loss: 0.0778\n",
            "\n",
            "Epoch 00009: saving model to /home/jupyter/Thesis/ResNet50/FE/ResNet50_FE_weights.09-0.08.h5\n",
            "Epoch 10/10\n",
            "279/279 [==============================] - 115s 413ms/step - loss: 0.1187 - val_loss: 0.0856\n",
            "\n",
            "Epoch 00010: saving model to /home/jupyter/Thesis/ResNet50/FE/ResNet50_FE_weights.10-0.09.h5\n"
          ],
          "name": "stdout"
        },
        {
          "output_type": "stream",
          "text": [
            "/opt/conda/lib/python3.7/site-packages/ipykernel_launcher.py:30: MatplotlibDeprecationWarning: Adding an axes using the same arguments as a previous axes currently reuses the earlier instance.  In a future version, a new instance will always be created and returned.  Meanwhile, this warning can be suppressed, and the future behavior ensured, by passing a unique label to each axes instance.\n"
          ],
          "name": "stderr"
        },
        {
          "output_type": "execute_result",
          "data": {
            "text/plain": [
              "<matplotlib.legend.Legend at 0x7f648868a610>"
            ]
          },
          "metadata": {
            "tags": []
          },
          "execution_count": 5
        },
        {
          "output_type": "display_data",
          "data": {
            "image/png": "[encoded data removed]",
            "text/plain": [
              "<Figure size 432x288 with 1 Axes>"
            ]
          },
          "metadata": {
            "tags": []
          }
        }
      ]
    },
    {
      "cell_type": "code",
      "metadata": {
        "id": "tHqxIjIbNvNp",
        "colab_type": "code",
        "colab": {},
        "outputId": "03dee807-7173-4417-eaa7-536cb17ff31f"
      },
      "source": [
        "from keras.models import load_model\n",
        "from sklearn.metrics import mean_absolute_error\n",
        "\n",
        "test_generator=test_datagen.flow_from_dataframe(\n",
        "dataframe=testDF,\n",
        "directory=\"/home/jupyter/Thesis/test/\",\n",
        "x_col=\"Images\",\n",
        "# y_col=\"SteeringAngle\",\n",
        "y_col=None,    \n",
        "batch_size=100,\n",
        "seed=42,\n",
        "shuffle=False,\n",
        "class_mode=None,\n",
        "target_size=(100,200))\n",
        "\n",
        "filepath = \"/home/jupyter/Thesis/ResNet50/FE/ResNet50_FE_weights.10-0.09.h5\"\n",
        "\n",
        "model.load_weights(filepath)\n",
        "\n",
        "\n",
        "predictions = model.predict(test_generator)\n",
        "\n",
        "MAE = mean_absolute_error(testDF.iloc[:, -1], predictions)\n",
        "print(MAE)"
      ],
      "execution_count": null,
      "outputs": [
        {
          "output_type": "stream",
          "text": [
            "Found 8950 validated image filenames.\n",
            "0.19949488216376757\n"
          ],
          "name": "stdout"
        }
      ]
    }
  ]
}