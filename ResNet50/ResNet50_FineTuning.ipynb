{
  "nbformat": 4,
  "nbformat_minor": 0,
  "metadata": {
    "environment": {
      "name": "tf2-gpu.2-1.m49",
      "type": "gcloud",
      "uri": "gcr.io/deeplearning-platform-release/tf2-gpu.2-1:m49"
    },
    "kernelspec": {
      "display_name": "Python 3",
      "language": "python",
      "name": "python3"
    },
    "language_info": {
      "codemirror_mode": {
        "name": "ipython",
        "version": 3
      },
      "file_extension": ".py",
      "mimetype": "text/x-python",
      "name": "python",
      "nbconvert_exporter": "python",
      "pygments_lexer": "ipython3",
      "version": "3.7.6"
    },
    "colab": {
      "name": "ResNet50_FineTuning.ipynb",
      "provenance": []
    }
  },
  "cells": [
    {
      "cell_type": "code",
      "metadata": {
        "id": "snv3XBfLlmX9",
        "colab_type": "code",
        "colab": {},
        "outputId": "ad452f5c-e3aa-4384-9af6-c9b1ae11cc5d"
      },
      "source": [
        "# %tensorflow_version 2.x\n",
        "import tensorflow as tf\n",
        "print(tf.__version__)\n",
        "\n",
        "from tensorflow.keras import layers\n",
        "import matplotlib.pyplot as plt\n",
        "import matplotlib.pylab as plb\n",
        "import numpy as np\n",
        "import pandas as pd\n",
        "from keras.layers import Input, Dense, Activation, Flatten, Conv2D, Lambda, MaxPooling2D, Dropout\n",
        "from keras import models\n",
        "from keras import layers\n",
        "from keras.callbacks import ModelCheckpoint\n",
        "from keras.optimizers import Adam\n",
        "from keras.applications import VGG16\n",
        "from keras_preprocessing.image import ImageDataGenerator\n",
        "from scipy import pi\n"
      ],
      "execution_count": null,
      "outputs": [
        {
          "output_type": "stream",
          "text": [
            "2.1.1-dlenv_tfe\n"
          ],
          "name": "stdout"
        },
        {
          "output_type": "stream",
          "text": [
            "Using TensorFlow backend.\n"
          ],
          "name": "stderr"
        }
      ]
    },
    {
      "cell_type": "code",
      "metadata": {
        "id": "0-9JsGmtlmYK",
        "colab_type": "code",
        "colab": {},
        "outputId": "40a7a642-d37c-486d-f895-b2bf5eae7a3a"
      },
      "source": [
        "trainDF = pd.read_csv(\"/home/jupyter/Thesis/train.txt\", sep=\" \", header=None)\n",
        "trainDF.columns = ['Images', 'SteeringAngle'] \n",
        "trainDF['SteeringAngle'] = trainDF['SteeringAngle'] * (pi / 180)\n",
        "\n",
        "testDF = pd.read_csv('/home/jupyter/Thesis/test.txt', sep=\" \", header=None)\n",
        "testDF.columns = ['Images', 'SteeringAngle'] \n",
        "\n",
        "datagen = ImageDataGenerator(\n",
        "            rescale=1./255,\n",
        "            zca_whitening=True,\n",
        "            rotation_range=5,\n",
        "            zoom_range=[0.1, 0.5],\n",
        "            height_shift_range=[0.1,0.3],\n",
        "            brightness_range=[0.55,1.0],\n",
        "            fill_mode='nearest',\n",
        "            validation_split=0.25)\n",
        "\n",
        "trainData = trainDF.shape[0] * 0.75\n",
        "valData = trainDF.shape[0] * 0.25\n",
        "# print(trainData, valData)\n",
        "\n",
        "test_datagen = ImageDataGenerator(rescale=1./255)\n",
        "\n",
        "BatchSize = 98\n",
        "\n",
        "train_generator=datagen.flow_from_dataframe(\n",
        "dataframe=trainDF,\n",
        "directory=\"/home/jupyter/Thesis/train/\",\n",
        "x_col=\"Images\",\n",
        "y_col=\"SteeringAngle\",\n",
        "subset=\"training\",\n",
        "batch_size=BatchSize,\n",
        "seed=42,\n",
        "shuffle=False,\n",
        "class_mode=\"raw\",\n",
        "target_size=(100,200))\n",
        "\n",
        "validation_generator = datagen.flow_from_dataframe(\n",
        "dataframe=trainDF,\n",
        "directory=\"/home/jupyter/Thesis/train/\",\n",
        "x_col=\"Images\",\n",
        "y_col=\"SteeringAngle\",\n",
        "subset=\"validation\",\n",
        "batch_size=BatchSize,\n",
        "seed=42,\n",
        "shuffle=False,\n",
        "class_mode=\"raw\",\n",
        "target_size=(100,200))\n"
      ],
      "execution_count": null,
      "outputs": [
        {
          "output_type": "stream",
          "text": [
            "/opt/conda/lib/python3.7/site-packages/keras_preprocessing/image/image_data_generator.py:336: UserWarning: This ImageDataGenerator specifies `zca_whitening`, which overrides setting of `featurewise_center`.\n",
            "  warnings.warn('This ImageDataGenerator specifies '\n"
          ],
          "name": "stderr"
        },
        {
          "output_type": "stream",
          "text": [
            "Found 27342 validated image filenames.\n",
            "Found 9114 validated image filenames.\n"
          ],
          "name": "stdout"
        }
      ]
    },
    {
      "cell_type": "code",
      "metadata": {
        "id": "7EAjbPwOlmYW",
        "colab_type": "code",
        "colab": {},
        "outputId": "a09415df-d14b-4c43-ea61-7105824bfec1"
      },
      "source": [
        "from keras.applications import VGG16\n",
        "\n",
        "def ResNet50_FT(width, height, depth):\n",
        "\n",
        "    model = VGG16(weights='imagenet', include_top=False, input_shape=(height, width, depth))\n",
        "\n",
        "#     model = models.Sequential()\n",
        "#     model.add(conv_base)\n",
        "#     conv_base.trainable = False\n",
        "#     model.add(layers.Flatten())\n",
        "\n",
        "#     model.add(Dense(1164, activation='relu'))\n",
        "#     model.add(Dropout(0.3))\n",
        "#     model.add(Dense(100, activation='relu'))\n",
        "#     model.add(Dropout(0.2))\n",
        "#     model.add(Dense(50, activation='relu'))\n",
        "#     model.add(Dropout(0.2))\n",
        "#     model.add(Dense(10, activation='relu'))    \n",
        "#     model.add(Dense(1, activation='linear'))\n",
        "\n",
        "    return model\n",
        "model = ResNet50_FT(width=200, height=100, depth=3)\n",
        "print (model.summary())"
      ],
      "execution_count": null,
      "outputs": [
        {
          "output_type": "stream",
          "text": [
            "Downloading data from https://github.com/fchollet/deep-learning-models/releases/download/v0.1/vgg16_weights_tf_dim_ordering_tf_kernels_notop.h5\n",
            "58892288/58889256 [==============================] - 2s 0us/step\n",
            "Model: \"vgg16\"\n",
            "_________________________________________________________________\n",
            "Layer (type)                 Output Shape              Param #   \n",
            "=================================================================\n",
            "input_2 (InputLayer)         (None, 100, 200, 3)       0         \n",
            "_________________________________________________________________\n",
            "block1_conv1 (Conv2D)        (None, 100, 200, 64)      1792      \n",
            "_________________________________________________________________\n",
            "block1_conv2 (Conv2D)        (None, 100, 200, 64)      36928     \n",
            "_________________________________________________________________\n",
            "block1_pool (MaxPooling2D)   (None, 50, 100, 64)       0         \n",
            "_________________________________________________________________\n",
            "block2_conv1 (Conv2D)        (None, 50, 100, 128)      73856     \n",
            "_________________________________________________________________\n",
            "block2_conv2 (Conv2D)        (None, 50, 100, 128)      147584    \n",
            "_________________________________________________________________\n",
            "block2_pool (MaxPooling2D)   (None, 25, 50, 128)       0         \n",
            "_________________________________________________________________\n",
            "block3_conv1 (Conv2D)        (None, 25, 50, 256)       295168    \n",
            "_________________________________________________________________\n",
            "block3_conv2 (Conv2D)        (None, 25, 50, 256)       590080    \n",
            "_________________________________________________________________\n",
            "block3_conv3 (Conv2D)        (None, 25, 50, 256)       590080    \n",
            "_________________________________________________________________\n",
            "block3_pool (MaxPooling2D)   (None, 12, 25, 256)       0         \n",
            "_________________________________________________________________\n",
            "block4_conv1 (Conv2D)        (None, 12, 25, 512)       1180160   \n",
            "_________________________________________________________________\n",
            "block4_conv2 (Conv2D)        (None, 12, 25, 512)       2359808   \n",
            "_________________________________________________________________\n",
            "block4_conv3 (Conv2D)        (None, 12, 25, 512)       2359808   \n",
            "_________________________________________________________________\n",
            "block4_pool (MaxPooling2D)   (None, 6, 12, 512)        0         \n",
            "_________________________________________________________________\n",
            "block5_conv1 (Conv2D)        (None, 6, 12, 512)        2359808   \n",
            "_________________________________________________________________\n",
            "block5_conv2 (Conv2D)        (None, 6, 12, 512)        2359808   \n",
            "_________________________________________________________________\n",
            "block5_conv3 (Conv2D)        (None, 6, 12, 512)        2359808   \n",
            "_________________________________________________________________\n",
            "block5_pool (MaxPooling2D)   (None, 3, 6, 512)         0         \n",
            "=================================================================\n",
            "Total params: 14,714,688\n",
            "Trainable params: 14,714,688\n",
            "Non-trainable params: 0\n",
            "_________________________________________________________________\n",
            "None\n"
          ],
          "name": "stdout"
        }
      ]
    },
    {
      "cell_type": "code",
      "metadata": {
        "id": "kzn8nP7MlmYd",
        "colab_type": "code",
        "colab": {}
      },
      "source": [
        "from keras.applications import ResNet50V2\n",
        "\n",
        "def ResNet50_FT(width, height, depth):\n",
        "\n",
        "    conv_base = ResNet50V2(weights='imagenet', include_top=False, input_shape=(height, width, depth))\n",
        "\n",
        "    model = models.Sequential()\n",
        "    model.add(conv_base)\n",
        "    conv_base.trainable = False\n",
        "    model.add(layers.Flatten())\n",
        "\n",
        "    model.add(Dense(1164, activation='relu'))\n",
        "    model.add(Dropout(0.3))\n",
        "    model.add(Dense(100, activation='relu'))\n",
        "    model.add(Dropout(0.2))\n",
        "    model.add(Dense(50, activation='relu'))\n",
        "    model.add(Dropout(0.2))\n",
        "    model.add(Dense(10, activation='relu'))    \n",
        "    model.add(Dense(1, activation='linear'))\n",
        "\n",
        "    return model\n"
      ],
      "execution_count": null,
      "outputs": []
    },
    {
      "cell_type": "code",
      "metadata": {
        "id": "cKQ-SSrTlmYj",
        "colab_type": "code",
        "colab": {},
        "outputId": "00d5e1cc-2d31-4be3-9267-0d442baa24f7"
      },
      "source": [
        "from keras.callbacks import ModelCheckpoint\n",
        "\n",
        "NUM_EPOCHS = 10\n",
        "\n",
        "model = ResNet50_FT(width=200, height=100, depth=3)\n",
        "\n",
        "filepath =  \"/home/jupyter/Thesis/ResNet50/ResNet50_DA_weights.08-0.17.h5\"\n",
        "\n",
        "model.load_weights(filepath)\n",
        "\n",
        "conv_base = ResNet50V2(weights='imagenet', include_top=False, input_shape=(100, 200, 3))\n",
        "\n",
        "conv_base.trainable = True\n",
        "set_trainable = False\n",
        "for layer in conv_base.layers:\n",
        "    if layer.name == 'conv5_block1_preact_bn':\n",
        "        set_trainable = True\n",
        "    if set_trainable:\n",
        "        layer.trainable = True\n",
        "    else:\n",
        "        layer.trainable = False\n",
        "\n",
        "model.compile(optimizer=tf.keras.optimizers.Adadelta(lr=1e-3), loss=\"mse\")\n",
        "\n",
        "filepath1 = \"/home/jupyter/Thesis/ResNet50/ResNet50_FT_weights.{epoch:02d}-{val_loss:.2f}.h5\"\n",
        "checkpoint = ModelCheckpoint(filepath1, monitor=\"val_loss\", mode=\"min\", save_best_only=True, verbose=1)\n",
        "\n",
        "history = model.fit(\n",
        "                train_generator,\n",
        "                steps_per_epoch=round(trainData/BatchSize),\n",
        "                epochs=NUM_EPOCHS,\n",
        "                validation_data=validation_generator,\n",
        "                validation_steps=round(valData/BatchSize),\n",
        "                callbacks=[checkpoint])\n",
        "\n",
        "plt.style.use(\"ggplot\")\n",
        "plt.figure()\n",
        "plt.plot(np.arange(0, NUM_EPOCHS), history.history[\"loss\"], label=\"train_loss\")\n",
        "plt.plot(np.arange(0, NUM_EPOCHS), history.history[\"val_loss\"], label=\"val_loss\")\n",
        "plt.title(\"Training Loss\")\n",
        "plt.xlabel(\"Epoch #\")\n",
        "plt.ylabel(\"Loss\")\n",
        "# https://stackoverflow.com/questions/4700614/how-to-put-the-legend-out-of-the-plot\n",
        "ax = plt.subplot(111)\n",
        "box = ax.get_position()\n",
        "ax.set_position([box.x0, box.y0, box.width * 0.8, box.height])\n",
        "\n",
        "# Put a legend to the right of the current axis\n",
        "ax.legend(loc='center left', bbox_to_anchor=(1, 0.5))\n",
        "\n",
        "avg_train_loss = sum(history.history[\"loss\"])/NUM_EPOCHS\n",
        "avg_val_loss = sum(history.history[\"val_loss\"])/NUM_EPOCHS\n",
        "\n",
        "print(\"avg_train_loss: \" + str(avg_train_loss))\n",
        "print(\"avg_val_loss: \" + str(avg_val_loss))\n",
        "print(\"difference: \" + str(abs(avg_train_loss - avg_val_loss)))\n",
        "\n",
        "\n",
        "model.save_weights(filepath)"
      ],
      "execution_count": null,
      "outputs": [
        {
          "output_type": "stream",
          "text": [
            "Epoch 1/10\n"
          ],
          "name": "stdout"
        },
        {
          "output_type": "stream",
          "text": [
            "/opt/conda/lib/python3.7/site-packages/keras_preprocessing/image/image_data_generator.py:716: UserWarning: This ImageDataGenerator specifies `featurewise_center`, but it hasn't been fit on any training data. Fit it first by calling `.fit(numpy_data)`.\n",
            "  warnings.warn('This ImageDataGenerator specifies '\n",
            "/opt/conda/lib/python3.7/site-packages/keras_preprocessing/image/image_data_generator.py:735: UserWarning: This ImageDataGenerator specifies `zca_whitening`, but it hasn't been fit on any training data. Fit it first by calling `.fit(numpy_data)`.\n",
            "  warnings.warn('This ImageDataGenerator specifies '\n"
          ],
          "name": "stderr"
        },
        {
          "output_type": "stream",
          "text": [
            "279/279 [==============================] - 293s 1s/step - loss: 0.2062 - val_loss: 0.1729\n",
            "\n",
            "Epoch 00001: val_loss improved from inf to 0.17294, saving model to /home/jupyter/Thesis/ResNet50/ResNet50_FT_weights.01-0.17.h5\n",
            "Epoch 2/10\n",
            "  1/279 [..............................] - ETA: 36s - loss: 0.0123"
          ],
          "name": "stdout"
        },
        {
          "output_type": "stream",
          "text": [
            "/opt/conda/lib/python3.7/site-packages/keras/engine/saving.py:165: UserWarning: TensorFlow optimizers do not make it possible to access optimizer attributes or optimizer state after instantiation. As a result, we cannot save the optimizer as part of the model save file.You will have to compile your model again after loading it. Prefer using a Keras optimizer instead (see keras.io/optimizers).\n",
            "  'TensorFlow optimizers do not '\n"
          ],
          "name": "stderr"
        },
        {
          "output_type": "stream",
          "text": [
            "279/279 [==============================] - 287s 1s/step - loss: 0.2064 - val_loss: 0.1683\n",
            "\n",
            "Epoch 00002: val_loss improved from 0.17294 to 0.16831, saving model to /home/jupyter/Thesis/ResNet50/ResNet50_FT_weights.02-0.17.h5\n",
            "Epoch 3/10\n",
            "279/279 [==============================] - 279s 1000ms/step - loss: 0.2069 - val_loss: 0.1702\n",
            "\n",
            "Epoch 00003: val_loss did not improve from 0.16831\n",
            "Epoch 4/10\n",
            "279/279 [==============================] - 279s 1s/step - loss: 0.2063 - val_loss: 0.1737\n",
            "\n",
            "Epoch 00004: val_loss did not improve from 0.16831\n",
            "Epoch 5/10\n",
            "279/279 [==============================] - 280s 1s/step - loss: 0.2062 - val_loss: 0.1678\n",
            "\n",
            "Epoch 00005: val_loss improved from 0.16831 to 0.16781, saving model to /home/jupyter/Thesis/ResNet50/ResNet50_FT_weights.05-0.17.h5\n",
            "Epoch 6/10\n",
            "279/279 [==============================] - 278s 997ms/step - loss: 0.2056 - val_loss: 0.1690\n",
            "\n",
            "Epoch 00006: val_loss did not improve from 0.16781\n",
            "Epoch 7/10\n",
            "279/279 [==============================] - 280s 1s/step - loss: 0.2055 - val_loss: 0.1694\n",
            "\n",
            "Epoch 00007: val_loss did not improve from 0.16781\n",
            "Epoch 8/10\n",
            "279/279 [==============================] - 277s 993ms/step - loss: 0.2050 - val_loss: 0.1679\n",
            "\n",
            "Epoch 00008: val_loss did not improve from 0.16781\n",
            "Epoch 9/10\n",
            "279/279 [==============================] - 282s 1s/step - loss: 0.2052 - val_loss: 0.1691\n",
            "\n",
            "Epoch 00009: val_loss did not improve from 0.16781\n",
            "Epoch 10/10\n",
            "279/279 [==============================] - 288s 1s/step - loss: 0.2046 - val_loss: 0.1684\n",
            "\n",
            "Epoch 00010: val_loss did not improve from 0.16781\n",
            "avg_train_loss: 0.20580269904927379\n",
            "avg_val_loss: 0.16966900676488877\n",
            "difference: 0.03613369228438501\n"
          ],
          "name": "stdout"
        },
        {
          "output_type": "stream",
          "text": [
            "/opt/conda/lib/python3.7/site-packages/keras_preprocessing/image/image_data_generator.py:716: UserWarning: This ImageDataGenerator specifies `featurewise_center`, but it hasn't been fit on any training data. Fit it first by calling `.fit(numpy_data)`.\n",
            "  warnings.warn('This ImageDataGenerator specifies '\n",
            "/opt/conda/lib/python3.7/site-packages/keras_preprocessing/image/image_data_generator.py:735: UserWarning: This ImageDataGenerator specifies `zca_whitening`, but it hasn't been fit on any training data. Fit it first by calling `.fit(numpy_data)`.\n",
            "  warnings.warn('This ImageDataGenerator specifies '\n",
            "/opt/conda/lib/python3.7/site-packages/ipykernel_launcher.py:44: MatplotlibDeprecationWarning: Adding an axes using the same arguments as a previous axes currently reuses the earlier instance.  In a future version, a new instance will always be created and returned.  Meanwhile, this warning can be suppressed, and the future behavior ensured, by passing a unique label to each axes instance.\n",
            "/opt/conda/lib/python3.7/site-packages/keras_preprocessing/image/image_data_generator.py:716: UserWarning: This ImageDataGenerator specifies `featurewise_center`, but it hasn't been fit on any training data. Fit it first by calling `.fit(numpy_data)`.\n",
            "  warnings.warn('This ImageDataGenerator specifies '\n",
            "/opt/conda/lib/python3.7/site-packages/keras_preprocessing/image/image_data_generator.py:735: UserWarning: This ImageDataGenerator specifies `zca_whitening`, but it hasn't been fit on any training data. Fit it first by calling `.fit(numpy_data)`.\n",
            "  warnings.warn('This ImageDataGenerator specifies '\n"
          ],
          "name": "stderr"
        },
        {
          "output_type": "display_data",
          "data": {
            "image/png": "[encoded data removed]",
            "text/plain": [
              "<Figure size 432x288 with 1 Axes>"
            ]
          },
          "metadata": {
            "tags": []
          }
        }
      ]
    },
    {
      "cell_type": "code",
      "metadata": {
        "id": "9m2kz4HSlmYr",
        "colab_type": "code",
        "colab": {},
        "outputId": "a31d49f1-abc6-44c9-93a5-387f1fc129a1"
      },
      "source": [
        "from keras.models import load_model\n",
        "\n",
        "test_generator=test_datagen.flow_from_dataframe(\n",
        "dataframe=testDF,\n",
        "directory=\"/home/jupyter/Thesis/test/\",\n",
        "x_col=\"Images\",\n",
        "# y_col=\"SteeringAngle\",\n",
        "y_col=None,    \n",
        "batch_size=100,\n",
        "seed=42,\n",
        "shuffle=False,\n",
        "class_mode=None,\n",
        "target_size=(100,200))\n",
        "\n",
        "filepath = \"/home/jupyter/Thesis/ResNet50/ResNet50_FT_weights.05-0.17.h5\"\n",
        "\n",
        "model.load_weights(filepath)\n",
        "\n",
        "\n",
        "predictions = model.predict(test_generator)\n",
        "print('Predictions: ', predictions.shape)"
      ],
      "execution_count": null,
      "outputs": [
        {
          "output_type": "stream",
          "text": [
            "Found 8950 validated image filenames.\n",
            "Predictions:  (8950, 1)\n"
          ],
          "name": "stdout"
        }
      ]
    },
    {
      "cell_type": "code",
      "metadata": {
        "id": "t6f-FBxmlmYz",
        "colab_type": "code",
        "colab": {},
        "outputId": "9fac0ef3-6247-417a-9876-59c7259f0793"
      },
      "source": [
        "import pandas as pd\n",
        "\n",
        "Images = testDF['Images']\n",
        "preds = predictions\n",
        "actual = testDF['SteeringAngle']\n",
        "\n",
        "df_preds = pd.DataFrame(Images)\n",
        "df_preds['Actual Steering Angle'] = (actual * (pi / 180))\n",
        "df_preds['Predicted Steering Angle'] = preds\n",
        "df_preds.rename(columns = {0:'Images'}, inplace = True) \n",
        "\n",
        "df_preds['MAE'] = 0\n",
        "\n",
        "for i in range(len(df_preds)):\n",
        "  df_preds.iloc[i, -1] = abs(df_preds.iloc[i, 1] - df_preds.iloc[i, 2])\n",
        "\n",
        "mae_sum = 0\n",
        "for i in range(len(df_preds)):\n",
        "    mae_sum += df_preds.iloc[i, -1]\n",
        "    \n",
        "print(\"mae_sum: \" + str(mae_sum))    \n",
        "MAE = mae_sum / len(df_preds)\n",
        "print(\"len(df_preds): \" + str(len(df_preds)))\n",
        "print(\"MAE: \" + str(MAE))"
      ],
      "execution_count": null,
      "outputs": [
        {
          "output_type": "stream",
          "text": [
            "mae_sum: 2022.561084394157\n",
            "len(df_preds): 8950\n",
            "MAE: 0.22598447870325777\n"
          ],
          "name": "stdout"
        }
      ]
    },
    {
      "cell_type": "code",
      "metadata": {
        "id": "eh5ys23plmY4",
        "colab_type": "code",
        "colab": {}
      },
      "source": [
        ""
      ],
      "execution_count": null,
      "outputs": []
    }
  ]
}