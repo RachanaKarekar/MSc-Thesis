{
  "nbformat": 4,
  "nbformat_minor": 0,
  "metadata": {
    "kernelspec": {
      "display_name": "Python 3",
      "language": "python",
      "name": "python3"
    },
    "language_info": {
      "codemirror_mode": {
        "name": "ipython",
        "version": 3
      },
      "file_extension": ".py",
      "mimetype": "text/x-python",
      "name": "python",
      "nbconvert_exporter": "python",
      "pygments_lexer": "ipython3",
      "version": "3.6.9"
    },
    "colab": {
      "name": "NewProposed_FeatureExtraction.ipynb",
      "provenance": [],
      "collapsed_sections": []
    },
    "accelerator": "GPU"
  },
  "cells": [
    {
      "cell_type": "code",
      "metadata": {
        "id": "uRszN9llwLhk",
        "colab_type": "code",
        "colab": {
          "base_uri": "https://localhost:8080/",
          "height": 35
        },
        "outputId": "44be0ab2-6b72-442f-ce80-f304f3a42adc"
      },
      "source": [
        "# %tensorflow_version 2.x\n",
        "import tensorflow as tf\n",
        "print(tf.__version__)\n",
        "\n",
        "from tensorflow.keras import layers\n",
        "import matplotlib.pyplot as plt\n",
        "import matplotlib.pylab as plb\n",
        "import numpy as np\n",
        "import pandas as pd\n",
        "from keras.layers import Input, Dense, Activation, Flatten, Conv2D, Lambda, MaxPooling2D, Dropout\n",
        "from keras import models\n",
        "from keras import layers\n",
        "from keras.callbacks import ModelCheckpoint\n",
        "from keras.optimizers import Adam\n",
        "from keras.applications import VGG16\n",
        "from keras_preprocessing.image import ImageDataGenerator\n",
        "from scipy import pi\n"
      ],
      "execution_count": null,
      "outputs": [
        {
          "output_type": "stream",
          "text": [
            "2.3.0\n"
          ],
          "name": "stdout"
        }
      ]
    },
    {
      "cell_type": "code",
      "metadata": {
        "id": "olC1_gPawnd8",
        "colab_type": "code",
        "colab": {}
      },
      "source": [
        "from google.colab import drive\n",
        "\n",
        "drive.mount('/content/gdrive')"
      ],
      "execution_count": null,
      "outputs": []
    },
    {
      "cell_type": "code",
      "metadata": {
        "id": "EJjDizS-wwhH",
        "colab_type": "code",
        "colab": {}
      },
      "source": [
        "!unzip \"/content/gdrive/My Drive/Sem2/Project/train.zip\" -d \"./\""
      ],
      "execution_count": null,
      "outputs": []
    },
    {
      "cell_type": "code",
      "metadata": {
        "id": "TDxsqgmrwznB",
        "colab_type": "code",
        "colab": {}
      },
      "source": [
        "!unzip \"/content/gdrive/My Drive/Sem2/Project/test.zip\" -d \"./\""
      ],
      "execution_count": null,
      "outputs": []
    },
    {
      "cell_type": "code",
      "metadata": {
        "id": "cPr9cx0XwLid",
        "colab_type": "code",
        "colab": {
          "base_uri": "https://localhost:8080/",
          "height": 54
        },
        "outputId": "31032ebf-080c-456d-b232-9bf56bf88ad4"
      },
      "source": [
        "trainDF = pd.read_csv(\"/content/gdrive/My Drive/Sem2/Project/train.txt\", sep=\" \", header=None)\n",
        "trainDF.columns = ['Images', 'SteeringAngle'] \n",
        "trainDF['SteeringAngle'] = trainDF['SteeringAngle'] * (pi / 180)\n",
        "\n",
        "testDF = pd.read_csv(\"/content/gdrive/My Drive/Sem2/Project/test.txt\", sep=\" \", header=None)\n",
        "testDF.columns = ['Images', 'SteeringAngle'] \n",
        "testDF['SteeringAngle'] = testDF['SteeringAngle'] * (pi / 180)\n",
        "\n",
        "datagen = ImageDataGenerator(rescale=1./255, validation_split=0.25)\n",
        "trainData = trainDF.shape[0] * 0.75\n",
        "valData = trainDF.shape[0] * 0.25\n",
        "# print(trainData, valData)\n",
        "\n",
        "test_datagen = ImageDataGenerator(rescale=1./255)\n",
        "\n",
        "BatchSize = 98\n",
        "\n",
        "train_generator=datagen.flow_from_dataframe(\n",
        "dataframe=trainDF,\n",
        "directory=\"/content/train/\",\n",
        "x_col=\"Images\",\n",
        "y_col=\"SteeringAngle\",\n",
        "subset=\"training\",\n",
        "batch_size=BatchSize,\n",
        "seed=42,\n",
        "shuffle=False,\n",
        "class_mode=\"raw\",\n",
        "target_size=(100,200))\n",
        "\n",
        "validation_generator = datagen.flow_from_dataframe(\n",
        "dataframe=trainDF,\n",
        "directory=\"/content/train/\",\n",
        "x_col=\"Images\",\n",
        "y_col=\"SteeringAngle\",\n",
        "subset=\"validation\",\n",
        "batch_size=BatchSize,\n",
        "seed=42,\n",
        "shuffle=False,\n",
        "class_mode=\"raw\",\n",
        "target_size=(100,200))\n"
      ],
      "execution_count": null,
      "outputs": [
        {
          "output_type": "stream",
          "text": [
            "Found 27342 validated image filenames.\n",
            "Found 9113 validated image filenames.\n"
          ],
          "name": "stdout"
        }
      ]
    },
    {
      "cell_type": "code",
      "metadata": {
        "id": "7ZtN7DVPwLja",
        "colab_type": "code",
        "colab": {}
      },
      "source": [
        "def ENetB4_FE(width, height, depth):\n",
        "\n",
        "    conv_base = tf.keras.applications.EfficientNetB4(weights='imagenet', include_top=False, input_shape=(height, width, depth))\n",
        "\n",
        "    model = models.Sequential()\n",
        "    model.add(conv_base)\n",
        "    conv_base.trainable = False\n",
        "    model.add(layers.Flatten())\n",
        "\n",
        "    model.add(Dense(1200, activation='relu'))\n",
        "    model.add(Dropout(0.3))\n",
        "    model.add(Dense(120, activation='relu'))\n",
        "    model.add(Dropout(0.2))\n",
        "    # model.add(Dense(100, activation='relu'))\n",
        "    # model.add(Dropout(0.1))\n",
        "    model.add(Dense(10, activation='relu'))    \n",
        "    model.add(Dense(1, activation='linear'))\n",
        "\n",
        "    return model\n"
      ],
      "execution_count": null,
      "outputs": []
    },
    {
      "cell_type": "code",
      "metadata": {
        "id": "_y2HuU0TwLj7",
        "colab_type": "code",
        "colab": {
          "base_uri": "https://localhost:8080/",
          "height": 1000
        },
        "outputId": "a1d34109-423a-41c0-a7b9-059bf02382da"
      },
      "source": [
        "from keras.callbacks import ModelCheckpoint\n",
        "\n",
        "NUM_EPOCHS = 10\n",
        "\n",
        "model = ENetB4_FE(width=200, height=100, depth=3)\n",
        "print (model.summary())\n",
        "\n",
        "model.compile(optimizer=tf.keras.optimizers.Adadelta(lr=1e-3), loss=\"mse\")\n",
        "\n",
        "filepath = \"/content/gdrive/My Drive/Sem2/Project/VGG16/NewProposed/FE/VGG16_FE_weights.{epoch:02d}-{val_loss:.2f}.h5\"\n",
        "checkpoint = ModelCheckpoint(filepath, verbose=1)\n",
        "\n",
        "history = model.fit(\n",
        "                train_generator,\n",
        "                steps_per_epoch=round(trainData/BatchSize),\n",
        "                epochs=NUM_EPOCHS,\n",
        "                validation_data=validation_generator,\n",
        "                validation_steps=round(valData/BatchSize),\n",
        "                callbacks=[checkpoint])\n",
        "\n",
        "plt.style.use(\"ggplot\")\n",
        "plt.figure()\n",
        "plt.plot(np.arange(0, NUM_EPOCHS), history.history[\"loss\"], label=\"train_loss\")\n",
        "plt.plot(np.arange(0, NUM_EPOCHS), history.history[\"val_loss\"], label=\"val_loss\")\n",
        "plt.title(\"Training Loss\")\n",
        "plt.xlabel(\"Epoch #\")\n",
        "plt.ylabel(\"Loss\")\n",
        "# https://stackoverflow.com/questions/4700614/how-to-put-the-legend-out-of-the-plot\n",
        "ax = plt.subplot(111)\n",
        "box = ax.get_position()\n",
        "ax.set_position([box.x0, box.y0, box.width * 0.8, box.height])\n",
        "\n",
        "# Put a legend to the right of the current axis\n",
        "ax.legend(loc='center left', bbox_to_anchor=(1, 0.5))"
      ],
      "execution_count": null,
      "outputs": [
        {
          "output_type": "stream",
          "text": [
            "Model: \"sequential_11\"\n",
            "_________________________________________________________________\n",
            "Layer (type)                 Output Shape              Param #   \n",
            "=================================================================\n",
            "efficientnetb4 (Functional)  (None, 4, 7, 1792)        17673823  \n",
            "_________________________________________________________________\n",
            "flatten_11 (Flatten)         (None, 50176)             0         \n",
            "_________________________________________________________________\n",
            "dense_50 (Dense)             (None, 1200)              60212400  \n",
            "_________________________________________________________________\n",
            "dropout_28 (Dropout)         (None, 1200)              0         \n",
            "_________________________________________________________________\n",
            "dense_51 (Dense)             (None, 120)               144120    \n",
            "_________________________________________________________________\n",
            "dropout_29 (Dropout)         (None, 120)               0         \n",
            "_________________________________________________________________\n",
            "dense_52 (Dense)             (None, 10)                1210      \n",
            "_________________________________________________________________\n",
            "dense_53 (Dense)             (None, 1)                 11        \n",
            "=================================================================\n",
            "Total params: 78,031,564\n",
            "Trainable params: 60,357,741\n",
            "Non-trainable params: 17,673,823\n",
            "_________________________________________________________________\n",
            "None\n",
            "Epoch 1/10\n",
            "279/279 [==============================] - ETA: 0s - loss: 0.3146\n",
            "Epoch 00001: saving model to /content/gdrive/My Drive/Sem2/Project/VGG16/NewProposed/FE/VGG16_FE_weights.01-0.67.h5\n",
            "279/279 [==============================] - 186s 666ms/step - loss: 0.3146 - val_loss: 0.6660\n",
            "Epoch 2/10\n",
            "279/279 [==============================] - ETA: 0s - loss: 0.2089\n",
            "Epoch 00002: saving model to /content/gdrive/My Drive/Sem2/Project/VGG16/NewProposed/FE/VGG16_FE_weights.02-0.66.h5\n",
            "279/279 [==============================] - 183s 655ms/step - loss: 0.2089 - val_loss: 0.6586\n",
            "Epoch 3/10\n",
            "279/279 [==============================] - ETA: 0s - loss: 0.2059\n",
            "Epoch 00003: saving model to /content/gdrive/My Drive/Sem2/Project/VGG16/NewProposed/FE/VGG16_FE_weights.03-0.66.h5\n",
            "279/279 [==============================] - 183s 655ms/step - loss: 0.2059 - val_loss: 0.6586\n",
            "Epoch 4/10\n",
            "279/279 [==============================] - ETA: 0s - loss: 0.2051\n",
            "Epoch 00004: saving model to /content/gdrive/My Drive/Sem2/Project/VGG16/NewProposed/FE/VGG16_FE_weights.04-0.66.h5\n",
            "279/279 [==============================] - 183s 654ms/step - loss: 0.2051 - val_loss: 0.6586\n",
            "Epoch 5/10\n",
            "279/279 [==============================] - ETA: 0s - loss: 0.2049\n",
            "Epoch 00005: saving model to /content/gdrive/My Drive/Sem2/Project/VGG16/NewProposed/FE/VGG16_FE_weights.05-0.66.h5\n",
            "279/279 [==============================] - 183s 655ms/step - loss: 0.2049 - val_loss: 0.6586\n",
            "Epoch 6/10\n",
            "279/279 [==============================] - ETA: 0s - loss: 0.2046\n",
            "Epoch 00006: saving model to /content/gdrive/My Drive/Sem2/Project/VGG16/NewProposed/FE/VGG16_FE_weights.06-0.66.h5\n",
            "279/279 [==============================] - 183s 657ms/step - loss: 0.2046 - val_loss: 0.6586\n",
            "Epoch 7/10\n",
            "279/279 [==============================] - ETA: 0s - loss: 0.2046\n",
            "Epoch 00007: saving model to /content/gdrive/My Drive/Sem2/Project/VGG16/NewProposed/FE/VGG16_FE_weights.07-0.66.h5\n",
            "279/279 [==============================] - 183s 656ms/step - loss: 0.2046 - val_loss: 0.6586\n",
            "Epoch 8/10\n",
            "279/279 [==============================] - ETA: 0s - loss: 0.2043\n",
            "Epoch 00008: saving model to /content/gdrive/My Drive/Sem2/Project/VGG16/NewProposed/FE/VGG16_FE_weights.08-0.66.h5\n",
            "279/279 [==============================] - 183s 655ms/step - loss: 0.2043 - val_loss: 0.6586\n",
            "Epoch 9/10\n",
            "279/279 [==============================] - ETA: 0s - loss: 0.2046\n",
            "Epoch 00009: saving model to /content/gdrive/My Drive/Sem2/Project/VGG16/NewProposed/FE/VGG16_FE_weights.09-0.66.h5\n",
            "279/279 [==============================] - 183s 655ms/step - loss: 0.2046 - val_loss: 0.6585\n",
            "Epoch 10/10\n",
            "279/279 [==============================] - ETA: 0s - loss: 0.2045\n",
            "Epoch 00010: saving model to /content/gdrive/My Drive/Sem2/Project/VGG16/NewProposed/FE/VGG16_FE_weights.10-0.66.h5\n",
            "279/279 [==============================] - 183s 656ms/step - loss: 0.2045 - val_loss: 0.6585\n"
          ],
          "name": "stdout"
        },
        {
          "output_type": "stream",
          "text": [
            "/usr/local/lib/python3.6/dist-packages/ipykernel_launcher.py:29: MatplotlibDeprecationWarning: Adding an axes using the same arguments as a previous axes currently reuses the earlier instance.  In a future version, a new instance will always be created and returned.  Meanwhile, this warning can be suppressed, and the future behavior ensured, by passing a unique label to each axes instance.\n"
          ],
          "name": "stderr"
        },
        {
          "output_type": "execute_result",
          "data": {
            "text/plain": [
              "<matplotlib.legend.Legend at 0x7f76355a05f8>"
            ]
          },
          "metadata": {
            "tags": []
          },
          "execution_count": 35
        },
        {
          "output_type": "display_data",
          "data": {
            "image/png": "[encoded data removed]",
            "text/plain": [
              "<Figure size 432x288 with 1 Axes>"
            ]
          },
          "metadata": {
            "tags": []
          }
        }
      ]
    },
    {
      "cell_type": "code",
      "metadata": {
        "id": "5x26r-2-wLkY",
        "colab_type": "code",
        "colab": {
          "base_uri": "https://localhost:8080/",
          "height": 54
        },
        "outputId": "38e39a91-d084-41a8-8ca1-4475d88afa53"
      },
      "source": [
        "from keras.models import load_model\n",
        "from sklearn.metrics import mean_absolute_error\n",
        "\n",
        "test_generator=test_datagen.flow_from_dataframe(\n",
        "dataframe=testDF,\n",
        "directory=\"/content/test/\",\n",
        "x_col=\"Images\",\n",
        "# y_col=\"SteeringAngle\",\n",
        "y_col=None,    \n",
        "batch_size=100,\n",
        "seed=42,\n",
        "shuffle=False,\n",
        "class_mode=None,\n",
        "target_size=(100,200))\n",
        "\n",
        "filepath = \"/content/gdrive/My Drive/Sem2/Project/VGG16/NewProposed/FE/VGG16_FE_weights.10-0.66.h5\"\n",
        "\n",
        "model.load_weights(filepath)\n",
        "\n",
        "\n",
        "predictions = model.predict(test_generator)\n",
        "\n",
        "MAE = mean_absolute_error(testDF.iloc[:, -1], predictions)\n",
        "print(MAE)"
      ],
      "execution_count": null,
      "outputs": [
        {
          "output_type": "stream",
          "text": [
            "Found 8951 validated image filenames.\n",
            "0.21958225906889167\n"
          ],
          "name": "stdout"
        }
      ]
    }
  ]
}